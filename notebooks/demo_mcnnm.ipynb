{
 "cells": [
  {
   "cell_type": "code",
   "execution_count": 1,
   "metadata": {},
   "outputs": [],
   "source": [
    "import numpy as np\n",
    "import matplotlib.pyplot as plt\n",
    "\n",
    "from synthlearners import Synth\n",
    "from synthlearners.simulator import (\n",
    "    SimulationConfig,\n",
    "    PanelSimulator,\n",
    "    FactorDGP,\n",
    ")\n",
    "from synthlearners.plotting import SynthPlotter"
   ]
  },
  {
   "cell_type": "markdown",
   "metadata": {},
   "source": [
    "## Basic use with Panel Matrices"
   ]
  },
  {
   "cell_type": "code",
   "execution_count": 8,
   "metadata": {},
   "outputs": [],
   "source": [
    "config = SimulationConfig(\n",
    "    N=100,\n",
    "    T=50,\n",
    "    T_pre=40,\n",
    "    n_treated=10,\n",
    "    selection_mean=1.0,\n",
    "    treatment_effect=0.5,\n",
    "    dgp=FactorDGP(K=2, sigma=1, time_fac_lb=-0.1, time_fac_ub=0.1, trend_sigma=0.0001),\n",
    ")\n",
    "simulator = PanelSimulator(config)\n",
    "Y, Y_0, L, treated_units = simulator.simulate()"
   ]
  },
  {
   "cell_type": "code",
   "execution_count": 9,
   "metadata": {},
   "outputs": [
    {
     "data": {
      "text/plain": [
       "array([89, 32, 13, 80, 85, 28, 82, 45,  9, 64])"
      ]
     },
     "execution_count": 9,
     "metadata": {},
     "output_type": "execute_result"
    }
   ],
   "source": [
    "treated_units"
   ]
  },
  {
   "cell_type": "code",
   "execution_count": 10,
   "metadata": {},
   "outputs": [],
   "source": [
    "from synthlearners.mcnnm import MatrixCompletionEstimator"
   ]
  },
  {
   "cell_type": "code",
   "execution_count": 11,
   "metadata": {},
   "outputs": [],
   "source": [
    "# Create a mask indicating which entries are observed.\n",
    "mask = np.ones_like(Y)\n",
    "missing_periods = config.T-config.T_pre\n",
    "\n",
    "# For treated units, suppose the outcomes in the last N periods are missing.\n",
    "mask[treated_units, -missing_periods:] = 0  "
   ]
  },
  {
   "cell_type": "code",
   "execution_count": 13,
   "metadata": {},
   "outputs": [
    {
     "data": {
      "text/plain": [
       "array([1., 1., 1., 1., 1., 1., 1., 1., 1., 1., 1., 1., 1., 1., 1., 1., 1.,\n",
       "       1., 1., 1., 1., 1., 1., 1., 1., 1., 1., 1., 1., 1., 1., 1., 1., 1.,\n",
       "       1., 1., 1., 1., 1., 1., 0., 0., 0., 0., 0., 0., 0., 0., 0., 0.])"
      ]
     },
     "execution_count": 13,
     "metadata": {},
     "output_type": "execute_result"
    }
   ],
   "source": [
    "mask[treated_units[0]]"
   ]
  },
  {
   "cell_type": "code",
   "execution_count": 14,
   "metadata": {},
   "outputs": [],
   "source": [
    "estimator = MatrixCompletionEstimator(\n",
    "    lambda_param=0.5,\n",
    "    tau=1.0,\n",
    "    max_iter=500,\n",
    "    tol=1e-4,\n",
    "    verbose=True\n",
    ")\n",
    "estimator.fit(Y, mask)\n",
    "Y_completed = estimator.completed_matrix_"
   ]
  },
  {
   "cell_type": "code",
   "execution_count": 19,
   "metadata": {},
   "outputs": [
    {
     "data": {
      "text/plain": [
       "array([-0.76488391, -0.15174888, -0.13119737,  0.30966483,  0.12721515,\n",
       "        0.81209996,  0.97510635, -1.01615275,  0.85462799, -1.3490142 ])"
      ]
     },
     "execution_count": 19,
     "metadata": {},
     "output_type": "execute_result"
    }
   ],
   "source": [
    "# Counterfactual Values for imputed periods for single treated example\n",
    "Y_0[treated_units[0], -missing_periods:]"
   ]
  },
  {
   "cell_type": "code",
   "execution_count": 29,
   "metadata": {},
   "outputs": [
    {
     "data": {
      "text/plain": [
       "array([-0.26488391,  0.34825112,  0.36880263,  0.80966483,  0.62721515,\n",
       "        1.31209996,  1.47510635, -0.51615275,  1.35462799, -0.8490142 ])"
      ]
     },
     "execution_count": 29,
     "metadata": {},
     "output_type": "execute_result"
    }
   ],
   "source": [
    "# Observed Value for imputed periods from single treated example\n",
    "Y[treated_units[0], -missing_periods:]"
   ]
  },
  {
   "cell_type": "code",
   "execution_count": 30,
   "metadata": {},
   "outputs": [
    {
     "data": {
      "text/plain": [
       "array([ 0.10312538, -0.28523968, -0.33110528,  0.34821213,  0.27433178,\n",
       "        0.23849457,  0.051028  , -0.34374433,  0.30512483, -0.75447681])"
      ]
     },
     "execution_count": 30,
     "metadata": {},
     "output_type": "execute_result"
    }
   ],
   "source": [
    "# MC Values for imputed periods for single treated example\n",
    "Y_completed[treated_units[0], -missing_periods:]"
   ]
  },
  {
   "cell_type": "code",
   "execution_count": 35,
   "metadata": {},
   "outputs": [
    {
     "name": "stdout",
     "output_type": "stream",
     "text": [
      "Baseline Bias of MC value relative to actual coutnerfactual -0.005996657049492582\n"
     ]
    }
   ],
   "source": [
    "baseline_bias = Y_completed[treated_units[0], -missing_periods:]-Y_0[treated_units[0], -missing_periods:]\n",
    "print('Baseline Bias of MC value relative to actual coutnerfactual',np.mean(bias))"
   ]
  },
  {
   "cell_type": "code",
   "execution_count": 36,
   "metadata": {},
   "outputs": [
    {
     "name": "stdout",
     "output_type": "stream",
     "text": [
      "Estimated Treatment Effect of Observed relative to MC Value 0.5059966570494925\n"
     ]
    }
   ],
   "source": [
    "te = Y[treated_units[0], -missing_periods:]-Y_completed[treated_units[0], -missing_periods:]\n",
    "print('Estimated Treatment Effect of Observed relative to MC Value',np.mean(te))"
   ]
  },
  {
   "cell_type": "code",
   "execution_count": 37,
   "metadata": {},
   "outputs": [
    {
     "name": "stdout",
     "output_type": "stream",
     "text": [
      "Treatment Effect Bias 0.005996657049492482\n"
     ]
    }
   ],
   "source": [
    "print('Treatment Effect Bias',np.abs(np.mean(te)-config.treatment_effect))"
   ]
  },
  {
   "cell_type": "code",
   "execution_count": null,
   "metadata": {},
   "outputs": [],
   "source": []
  }
 ],
 "metadata": {
  "kernelspec": {
   "display_name": "Python 3 (ipykernel)",
   "language": "python",
   "name": "python3"
  },
  "language_info": {
   "codemirror_mode": {
    "name": "ipython",
    "version": 3
   },
   "file_extension": ".py",
   "mimetype": "text/x-python",
   "name": "python",
   "nbconvert_exporter": "python",
   "pygments_lexer": "ipython3",
   "version": "3.13.1"
  }
 },
 "nbformat": 4,
 "nbformat_minor": 4
}
