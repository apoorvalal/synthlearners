{
 "cells": [
  {
   "cell_type": "code",
   "execution_count": 1,
   "metadata": {},
   "outputs": [],
   "source": [
    "import numpy as np\n",
    "import matplotlib.pyplot as plt\n",
    "\n",
    "from synthlearners import Synth\n",
    "from synthlearners.simulator import (\n",
    "    SimulationConfig,\n",
    "    PanelSimulator,\n",
    "    FactorDGP,\n",
    ")\n",
    "from synthlearners.plotting import SynthPlotter"
   ]
  },
  {
   "cell_type": "markdown",
   "metadata": {},
   "source": [
    "## Basic use with Panel Matrices"
   ]
  },
  {
   "cell_type": "code",
   "execution_count": 2,
   "metadata": {},
   "outputs": [],
   "source": [
    "config = SimulationConfig(\n",
    "    N=100,\n",
    "    T=50,\n",
    "    T_pre=40,\n",
    "    n_treated=10,\n",
    "    selection_mean=1.0,\n",
    "    treatment_effect=0.5,\n",
    "    dgp=FactorDGP(K=2, sigma=1, time_fac_lb=-0.1, time_fac_ub=0.1, trend_sigma=0.0001),\n",
    ")\n",
    "simulator = PanelSimulator(config)\n",
    "Y, Y_0, L, treated_units = simulator.simulate()"
   ]
  },
  {
   "cell_type": "code",
   "execution_count": 3,
   "metadata": {},
   "outputs": [
    {
     "data": {
      "text/plain": [
       "array([89, 32, 13, 80, 85, 28, 82, 45,  9, 64])"
      ]
     },
     "execution_count": 3,
     "metadata": {},
     "output_type": "execute_result"
    }
   ],
   "source": [
    "treated_units"
   ]
  },
  {
   "cell_type": "code",
   "execution_count": 4,
   "metadata": {},
   "outputs": [],
   "source": [
    "from synthlearners.mcnnm import MatrixCompletionEstimator"
   ]
  },
  {
   "cell_type": "code",
   "execution_count": 5,
   "metadata": {},
   "outputs": [],
   "source": [
    "# Create a mask indicating which entries are observed.\n",
    "mask = np.ones_like(Y)\n",
    "missing_periods = config.T-config.T_pre\n",
    "\n",
    "# For treated units, suppose the outcomes in the last N periods are missing.\n",
    "mask[treated_units, -missing_periods:] = 0  "
   ]
  },
  {
   "cell_type": "code",
   "execution_count": 6,
   "metadata": {},
   "outputs": [
    {
     "data": {
      "text/plain": [
       "array([1., 1., 1., 1., 1., 1., 1., 1., 1., 1., 1., 1., 1., 1., 1., 1., 1.,\n",
       "       1., 1., 1., 1., 1., 1., 1., 1., 1., 1., 1., 1., 1., 1., 1., 1., 1.,\n",
       "       1., 1., 1., 1., 1., 1., 0., 0., 0., 0., 0., 0., 0., 0., 0., 0.])"
      ]
     },
     "execution_count": 6,
     "metadata": {},
     "output_type": "execute_result"
    }
   ],
   "source": [
    "mask[treated_units[0]]"
   ]
  },
  {
   "cell_type": "code",
   "execution_count": 7,
   "metadata": {},
   "outputs": [
    {
     "name": "stdout",
     "output_type": "stream",
     "text": [
      "Iteration   1, relative change = 5562318550.187082\n",
      "Iteration   2, relative change = 0.011674\n",
      "Iteration   3, relative change = 0.008889\n",
      "Iteration   4, relative change = 0.006807\n",
      "Iteration   5, relative change = 0.005247\n",
      "Iteration   6, relative change = 0.004069\n",
      "Iteration   7, relative change = 0.003174\n",
      "Iteration   8, relative change = 0.002487\n",
      "Iteration   9, relative change = 0.001957\n",
      "Iteration  10, relative change = 0.001546\n",
      "Iteration  11, relative change = 0.001225\n",
      "Iteration  12, relative change = 0.000973\n",
      "Iteration  13, relative change = 0.000775\n",
      "Iteration  14, relative change = 0.000619\n",
      "Iteration  15, relative change = 0.000495\n",
      "Iteration  16, relative change = 0.000397\n",
      "Iteration  17, relative change = 0.000319\n",
      "Iteration  18, relative change = 0.000257\n",
      "Iteration  19, relative change = 0.000207\n",
      "Iteration  20, relative change = 0.000167\n",
      "Iteration  21, relative change = 0.000135\n",
      "Iteration  22, relative change = 0.000109\n",
      "Iteration  23, relative change = 0.000089\n",
      "Iteration  24, relative change = 0.000072\n",
      "Iteration  25, relative change = 0.000059\n",
      "Iteration  26, relative change = 0.000048\n",
      "Iteration  27, relative change = 0.000039\n",
      "Iteration  28, relative change = 0.000032\n",
      "Iteration  29, relative change = 0.000026\n",
      "Iteration  30, relative change = 0.000021\n",
      "Iteration  31, relative change = 0.000018\n",
      "Iteration  32, relative change = 0.000014\n",
      "Iteration  33, relative change = 0.000012\n",
      "Iteration  34, relative change = 0.000010\n",
      "Iteration  35, relative change = 0.000008\n",
      "Iteration  36, relative change = 0.000007\n",
      "Iteration  37, relative change = 0.000005\n",
      "Iteration  38, relative change = 0.000005\n",
      "Iteration  39, relative change = 0.000004\n",
      "Iteration  40, relative change = 0.000003\n",
      "Iteration  41, relative change = 0.000003\n",
      "Iteration  42, relative change = 0.000002\n",
      "Iteration  43, relative change = 0.000002\n",
      "Iteration  44, relative change = 0.000001\n",
      "Iteration  45, relative change = 0.000001\n",
      "Iteration  46, relative change = 0.000001\n",
      "Iteration  47, relative change = 0.000001\n",
      "Convergence achieved.\n"
     ]
    }
   ],
   "source": [
    "estimator = MatrixCompletionEstimator(\n",
    "    lambda_param=1e-3,\n",
    "    max_iter=500,\n",
    "    tol=1e-6,\n",
    "    verbose=True\n",
    ")\n",
    "estimator.fit(Y, mask)\n",
    "Y_completed = estimator.completed_matrix_"
   ]
  },
  {
   "cell_type": "code",
   "execution_count": 8,
   "metadata": {},
   "outputs": [
    {
     "data": {
      "text/plain": [
       "array([-0.76488391, -0.15174888, -0.13119737,  0.30966483,  0.12721515,\n",
       "        0.81209996,  0.97510635, -1.01615275,  0.85462799, -1.3490142 ])"
      ]
     },
     "execution_count": 8,
     "metadata": {},
     "output_type": "execute_result"
    }
   ],
   "source": [
    "# Counterfactual Values for imputed periods for single treated example\n",
    "Y_0[treated_units[0], -missing_periods:]"
   ]
  },
  {
   "cell_type": "code",
   "execution_count": 9,
   "metadata": {},
   "outputs": [
    {
     "data": {
      "text/plain": [
       "array([-0.26488391,  0.34825112,  0.36880263,  0.80966483,  0.62721515,\n",
       "        1.31209996,  1.47510635, -0.51615275,  1.35462799, -0.8490142 ])"
      ]
     },
     "execution_count": 9,
     "metadata": {},
     "output_type": "execute_result"
    }
   ],
   "source": [
    "# Observed Value for imputed periods from single treated example\n",
    "Y[treated_units[0], -missing_periods:]"
   ]
  },
  {
   "cell_type": "code",
   "execution_count": 10,
   "metadata": {},
   "outputs": [
    {
     "data": {
      "text/plain": [
       "array([ 0.10977991, -0.30386904, -0.35959057,  0.36566895,  0.2987112 ,\n",
       "        0.24407495,  0.04952359, -0.35429608,  0.3084663 , -0.79258891])"
      ]
     },
     "execution_count": 10,
     "metadata": {},
     "output_type": "execute_result"
    }
   ],
   "source": [
    "# MC Values for imputed periods for single treated example\n",
    "Y_completed[treated_units[0], -missing_periods:]"
   ]
  },
  {
   "cell_type": "code",
   "execution_count": 11,
   "metadata": {},
   "outputs": [
    {
     "name": "stdout",
     "output_type": "stream",
     "text": [
      "Baseline Bias of MC value relative to actual counterfactual -0.009983685543181752\n"
     ]
    }
   ],
   "source": [
    "baseline_bias = Y_completed[treated_units[0], -missing_periods:]-Y_0[treated_units[0], -missing_periods:]\n",
    "print('Baseline Bias of MC value relative to actual counterfactual',np.mean(baseline_bias))"
   ]
  },
  {
   "cell_type": "code",
   "execution_count": 12,
   "metadata": {},
   "outputs": [
    {
     "name": "stdout",
     "output_type": "stream",
     "text": [
      "Estimated Treatment Effect of Observed relative to MC Value 0.5099836855431817\n"
     ]
    }
   ],
   "source": [
    "te = Y[treated_units[0], -missing_periods:]-Y_completed[treated_units[0], -missing_periods:]\n",
    "print('Estimated Treatment Effect of Observed relative to MC Value',np.mean(te))"
   ]
  },
  {
   "cell_type": "code",
   "execution_count": 13,
   "metadata": {},
   "outputs": [
    {
     "name": "stdout",
     "output_type": "stream",
     "text": [
      "Treatment Effect Bias 0.009983685543181742\n"
     ]
    }
   ],
   "source": [
    "print('Treatment Effect Bias',np.abs(np.mean(te)-config.treatment_effect))"
   ]
  },
  {
   "cell_type": "code",
   "execution_count": null,
   "metadata": {},
   "outputs": [],
   "source": []
  },
  {
   "cell_type": "code",
   "execution_count": null,
   "metadata": {},
   "outputs": [],
   "source": []
  }
 ],
 "metadata": {
  "kernelspec": {
   "display_name": "Python 3 (ipykernel)",
   "language": "python",
   "name": "python3"
  },
  "language_info": {
   "codemirror_mode": {
    "name": "ipython",
    "version": 3
   },
   "file_extension": ".py",
   "mimetype": "text/x-python",
   "name": "python",
   "nbconvert_exporter": "python",
   "pygments_lexer": "ipython3",
   "version": "3.13.1"
  }
 },
 "nbformat": 4,
 "nbformat_minor": 4
}
