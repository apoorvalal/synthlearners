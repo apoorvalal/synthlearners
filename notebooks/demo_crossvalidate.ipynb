{
 "cells": [
  {
   "cell_type": "code",
   "execution_count": null,
   "metadata": {},
   "outputs": [],
   "source": [
    "import numpy as np\n",
    "import pandas as pd\n",
    "import matplotlib.pyplot as plt\n",
    "\n",
    "from synthlearners.utils import prepare_panel\n",
    "from synthlearners.crossvalidation import PanelCrossValidator"
   ]
  },
  {
   "cell_type": "code",
   "execution_count": null,
   "metadata": {},
   "outputs": [],
   "source": [
    "data = prepare_panel(\n",
    "    adh_data,\n",
    "    unit_col=\"country\",\n",
    "    time_col=\"year\",\n",
    "    outcome_col=\"gdp\",\n",
    "    treatment_col=\"treat\",\n",
    ")"
   ]
  },
  {
   "cell_type": "code",
   "execution_count": null,
   "metadata": {},
   "outputs": [],
   "source": [
    "f, ax = plt.subplots(1, 2, figsize=(10, 6), sharey=True)\n",
    "ax[0].matshow(data[\"Y\"], aspect=\"auto\", cmap=\"viridis\")\n",
    "ax[1].matshow(data[\"W\"], aspect=\"auto\", cmap=\"viridis\")\n",
    "f.tight_layout()\n",
    "ax[0].set_title(\"Outcome matrix\")\n",
    "ax[1].set_title(\"Treatment matrix\")"
   ]
  },
  {
   "cell_type": "code",
   "execution_count": null,
   "metadata": {},
   "outputs": [],
   "source": [
    "n_split_cnt = 4\n",
    "cv = PanelCrossValidator(n_splits=n_split_cnt)"
   ]
  },
  {
   "cell_type": "code",
   "execution_count": null,
   "metadata": {},
   "outputs": [],
   "source": [
    "def plot_masks(m):\n",
    "    f, ax = plt.subplots(len(m), 2, figsize=(10, 10), sharey=True)\n",
    "\n",
    "    for n in range(len(m)):\n",
    "        ax[n,0].matshow(m[n][0], aspect=\"auto\", cmap=\"viridis\")\n",
    "        ax[n,1].matshow(m[n][1], aspect=\"auto\", cmap=\"viridis\")\n",
    "\n",
    "    f.tight_layout()\n",
    "    ax[0,0].set_title(\"Train matrix\")\n",
    "    ax[0,1].set_title(\"Test matrix\")"
   ]
  },
  {
   "cell_type": "code",
   "execution_count": null,
   "metadata": {},
   "outputs": [],
   "source": [
    "horizontal_masks = cv.horizontal_split(data[\"Y\"])\n",
    "plot_masks(horizontal_masks)"
   ]
  },
  {
   "cell_type": "code",
   "execution_count": null,
   "metadata": {},
   "outputs": [],
   "source": [
    "vertical_masks = cv.vertical_split(data[\"Y\"])\n",
    "plot_masks(vertical_masks)"
   ]
  },
  {
   "cell_type": "code",
   "execution_count": null,
   "metadata": {},
   "outputs": [],
   "source": [
    "box_masks = cv.box_split(data[\"Y\"])\n",
    "plot_masks(box_masks)"
   ]
  },
  {
   "cell_type": "code",
   "execution_count": null,
   "metadata": {},
   "outputs": [],
   "source": [
    "random_masks = cv.random_split(data[\"Y\"])\n",
    "plot_masks(random_masks)"
   ]
  },
  {
   "cell_type": "code",
   "execution_count": null,
   "metadata": {},
   "outputs": [],
   "source": []
  },
  {
   "cell_type": "code",
   "execution_count": null,
   "metadata": {},
   "outputs": [],
   "source": []
  },
  {
   "cell_type": "code",
   "execution_count": null,
   "metadata": {},
   "outputs": [],
   "source": []
  }
 ],
 "metadata": {
  "kernelspec": {
   "display_name": "Python 3 (ipykernel)",
   "language": "python",
   "name": "python3"
  },
  "language_info": {
   "codemirror_mode": {
    "name": "ipython",
    "version": 3
   },
   "file_extension": ".py",
   "mimetype": "text/x-python",
   "name": "python",
   "nbconvert_exporter": "python",
   "pygments_lexer": "ipython3",
   "version": "3.13.1"
  }
 },
 "nbformat": 4,
 "nbformat_minor": 4
}
